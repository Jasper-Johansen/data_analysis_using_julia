{
 "cells": [
  {
   "cell_type": "code",
   "execution_count": null,
   "id": "f5bf1df7-afdd-4f95-b8b0-907f5dd84971",
   "metadata": {},
   "outputs": [],
   "source": []
  }
 ],
 "metadata": {
  "kernelspec": {
   "display_name": "",
   "name": ""
  },
  "language_info": {
   "name": ""
  }
 },
 "nbformat": 4,
 "nbformat_minor": 5
}
