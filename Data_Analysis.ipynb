{
 "cells": [
  {
   "cell_type": "code",
   "execution_count": 2,
   "id": "f5bf1df7-afdd-4f95-b8b0-907f5dd84971",
   "metadata": {},
   "outputs": [
    {
     "name": "stderr",
     "output_type": "stream",
     "text": [
      "\u001b[32m\u001b[1m    Updating\u001b[22m\u001b[39m registry at `C:\\Users\\anoop\\.julia\\registries\\General.toml`\n",
      "\u001b[32m\u001b[1m   Resolving\u001b[22m\u001b[39m package versions...\n",
      "\u001b[32m\u001b[1m   Installed\u001b[22m\u001b[39m SentinelArrays ── v1.4.5\n",
      "\u001b[32m\u001b[1m   Installed\u001b[22m\u001b[39m FilePathsBase ─── v0.9.22\n",
      "\u001b[32m\u001b[1m   Installed\u001b[22m\u001b[39m WeakRefStrings ── v1.4.2\n",
      "\u001b[32m\u001b[1m   Installed\u001b[22m\u001b[39m Tables ────────── v1.12.0\n",
      "\u001b[32m\u001b[1m   Installed\u001b[22m\u001b[39m InlineStrings ─── v1.4.2\n",
      "\u001b[32m\u001b[1m   Installed\u001b[22m\u001b[39m PooledArrays ──── v1.4.3\n",
      "\u001b[32m\u001b[1m   Installed\u001b[22m\u001b[39m WorkerUtilities ─ v1.6.1\n",
      "\u001b[32m\u001b[1m   Installed\u001b[22m\u001b[39m CSV ───────────── v0.10.14\n",
      "\u001b[32m\u001b[1m    Updating\u001b[22m\u001b[39m `C:\\Users\\anoop\\.julia\\environments\\v1.10\\Project.toml`\n",
      "  \u001b[90m[336ed68f] \u001b[39m\u001b[92m+ CSV v0.10.14\u001b[39m\n",
      "\u001b[32m\u001b[1m    Updating\u001b[22m\u001b[39m `C:\\Users\\anoop\\.julia\\environments\\v1.10\\Manifest.toml`\n",
      "  \u001b[90m[336ed68f] \u001b[39m\u001b[92m+ CSV v0.10.14\u001b[39m\n",
      "  \u001b[90m[e2d170a0] \u001b[39m\u001b[92m+ DataValueInterfaces v1.0.0\u001b[39m\n",
      "  \u001b[90m[48062228] \u001b[39m\u001b[92m+ FilePathsBase v0.9.22\u001b[39m\n",
      "  \u001b[90m[842dd82b] \u001b[39m\u001b[92m+ InlineStrings v1.4.2\u001b[39m\n",
      "  \u001b[90m[82899510] \u001b[39m\u001b[92m+ IteratorInterfaceExtensions v1.0.0\u001b[39m\n",
      "  \u001b[90m[2dfb63ee] \u001b[39m\u001b[92m+ PooledArrays v1.4.3\u001b[39m\n",
      "  \u001b[90m[91c51154] \u001b[39m\u001b[92m+ SentinelArrays v1.4.5\u001b[39m\n",
      "  \u001b[90m[3783bdb8] \u001b[39m\u001b[92m+ TableTraits v1.0.1\u001b[39m\n",
      "  \u001b[90m[bd369af6] \u001b[39m\u001b[92m+ Tables v1.12.0\u001b[39m\n",
      "  \u001b[90m[ea10d353] \u001b[39m\u001b[92m+ WeakRefStrings v1.4.2\u001b[39m\n",
      "  \u001b[90m[76eceee3] \u001b[39m\u001b[92m+ WorkerUtilities v1.6.1\u001b[39m\n",
      "  \u001b[90m[9fa8497b] \u001b[39m\u001b[92m+ Future\u001b[39m\n",
      "\u001b[32m\u001b[1mPrecompiling\u001b[22m\u001b[39m project...\n",
      "\u001b[32m  ✓ \u001b[39m\u001b[90mIteratorInterfaceExtensions\u001b[39m\n",
      "\u001b[32m  ✓ \u001b[39m\u001b[90mWorkerUtilities\u001b[39m\n",
      "\u001b[32m  ✓ \u001b[39m\u001b[90mInlineStrings\u001b[39m\n",
      "\u001b[32m  ✓ \u001b[39m\u001b[90mDataValueInterfaces\u001b[39m\n",
      "\u001b[32m  ✓ \u001b[39m\u001b[90mSentinelArrays\u001b[39m\n",
      "\u001b[32m  ✓ \u001b[39m\u001b[90mTableTraits\u001b[39m\n",
      "\u001b[32m  ✓ \u001b[39m\u001b[90mPooledArrays\u001b[39m\n",
      "\u001b[32m  ✓ \u001b[39m\u001b[90mInlineStrings → ParsersExt\u001b[39m\n",
      "\u001b[32m  ✓ \u001b[39m\u001b[90mFilePathsBase\u001b[39m\n",
      "\u001b[32m  ✓ \u001b[39m\u001b[90mFilePathsBase → FilePathsBaseMmapExt\u001b[39m\n",
      "\u001b[32m  ✓ \u001b[39m\u001b[90mTables\u001b[39m\n",
      "\u001b[32m  ✓ \u001b[39m\u001b[90mWeakRefStrings\u001b[39m\n",
      "\u001b[32m  ✓ \u001b[39m\u001b[90mFilePathsBase → FilePathsBaseTestExt\u001b[39m\n",
      "\u001b[32m  ✓ \u001b[39mCSV\n",
      "  14 dependencies successfully precompiled in 38 seconds. 185 already precompiled.\n",
      "\u001b[32m\u001b[1m   Resolving\u001b[22m\u001b[39m package versions...\n",
      "\u001b[32m\u001b[1m   Installed\u001b[22m\u001b[39m InvertedIndices ──── v1.3.0\n",
      "\u001b[32m\u001b[1m   Installed\u001b[22m\u001b[39m StringManipulation ─ v0.4.0\n",
      "\u001b[32m\u001b[1m   Installed\u001b[22m\u001b[39m PrettyTables ─────── v2.4.0\n",
      "\u001b[32m\u001b[1m   Installed\u001b[22m\u001b[39m DataFrames ───────── v1.7.0\n",
      "\u001b[32m\u001b[1m    Updating\u001b[22m\u001b[39m `C:\\Users\\anoop\\.julia\\environments\\v1.10\\Project.toml`\n",
      "  \u001b[90m[a93c6f00] \u001b[39m\u001b[92m+ DataFrames v1.7.0\u001b[39m\n",
      "\u001b[32m\u001b[1m    Updating\u001b[22m\u001b[39m `C:\\Users\\anoop\\.julia\\environments\\v1.10\\Manifest.toml`\n",
      "  \u001b[90m[a93c6f00] \u001b[39m\u001b[92m+ DataFrames v1.7.0\u001b[39m\n",
      "  \u001b[90m[41ab1584] \u001b[39m\u001b[92m+ InvertedIndices v1.3.0\u001b[39m\n",
      "  \u001b[90m[08abe8d2] \u001b[39m\u001b[92m+ PrettyTables v2.4.0\u001b[39m\n",
      "  \u001b[90m[892a3eda] \u001b[39m\u001b[92m+ StringManipulation v0.4.0\u001b[39m\n",
      "\u001b[32m\u001b[1mPrecompiling\u001b[22m\u001b[39m project...\n",
      "\u001b[32m  ✓ \u001b[39m\u001b[90mInvertedIndices\u001b[39m\n",
      "\u001b[32m  ✓ \u001b[39m\u001b[90mStringManipulation\u001b[39m\n",
      "\u001b[32m  ✓ \u001b[39m\u001b[90mPrettyTables\u001b[39m\n",
      "\u001b[32m  ✓ \u001b[39mDataFrames\n",
      "\u001b[32m  ✓ \u001b[39m\u001b[90mLatexify → DataFramesExt\u001b[39m\n",
      "  5 dependencies successfully precompiled in 98 seconds. 199 already precompiled.\n"
     ]
    }
   ],
   "source": [
    "#Adding required packages\n",
    "using Pkg\n",
    "Pkg.add(\"CSV\")\n",
    "Pkg.add(\"DataFrames\")"
   ]
  },
  {
   "cell_type": "code",
   "execution_count": 3,
   "id": "e837072a-461b-4af7-bdc4-df620fd25e05",
   "metadata": {},
   "outputs": [
    {
     "data": {
      "text/html": [
       "<div><div style = \"float: left;\"><span>6607×20 DataFrame</span></div><div style = \"float: right;\"><span style = \"font-style: italic;\">6582 rows omitted</span></div><div style = \"clear: both;\"></div></div><div class = \"data-frame\" style = \"overflow-x: scroll;\"><table class = \"data-frame\" style = \"margin-bottom: 6px;\"><thead><tr class = \"header\"><th class = \"rowNumber\" style = \"font-weight: bold; text-align: right;\">Row</th><th style = \"text-align: left;\">Hours_Studied</th><th style = \"text-align: left;\">Attendance</th><th style = \"text-align: left;\">Parental_Involvement</th><th style = \"text-align: left;\">Access_to_Resources</th><th style = \"text-align: left;\">Extracurricular_Activities</th><th style = \"text-align: left;\">Sleep_Hours</th><th style = \"text-align: left;\">Previous_Scores</th><th style = \"text-align: left;\">Motivation_Level</th><th style = \"text-align: left;\">Internet_Access</th><th style = \"text-align: left;\">Tutoring_Sessions</th><th style = \"text-align: left;\">Family_Income</th><th style = \"text-align: left;\">Teacher_Quality</th><th style = \"text-align: left;\">School_Type</th><th style = \"text-align: left;\">Peer_Influence</th><th style = \"text-align: left;\">Physical_Activity</th><th style = \"text-align: left;\">Learning_Disabilities</th><th style = \"text-align: left;\">Parental_Education_Level</th><th style = \"text-align: left;\">Distance_from_Home</th><th style = \"text-align: left;\">Gender</th><th style = \"text-align: left;\">Exam_Score</th></tr><tr class = \"subheader headerLastRow\"><th class = \"rowNumber\" style = \"font-weight: bold; text-align: right;\"></th><th title = \"Int64\" style = \"text-align: left;\">Int64</th><th title = \"Int64\" style = \"text-align: left;\">Int64</th><th title = \"String7\" style = \"text-align: left;\">String7</th><th title = \"String7\" style = \"text-align: left;\">String7</th><th title = \"String3\" style = \"text-align: left;\">String3</th><th title = \"Int64\" style = \"text-align: left;\">Int64</th><th title = \"Int64\" style = \"text-align: left;\">Int64</th><th title = \"String7\" style = \"text-align: left;\">String7</th><th title = \"String3\" style = \"text-align: left;\">String3</th><th title = \"Int64\" style = \"text-align: left;\">Int64</th><th title = \"String7\" style = \"text-align: left;\">String7</th><th title = \"Union{Missing, String7}\" style = \"text-align: left;\">String7?</th><th title = \"String7\" style = \"text-align: left;\">String7</th><th title = \"String15\" style = \"text-align: left;\">String15</th><th title = \"Int64\" style = \"text-align: left;\">Int64</th><th title = \"String3\" style = \"text-align: left;\">String3</th><th title = \"Union{Missing, String15}\" style = \"text-align: left;\">String15?</th><th title = \"Union{Missing, String15}\" style = \"text-align: left;\">String15?</th><th title = \"String7\" style = \"text-align: left;\">String7</th><th title = \"Int64\" style = \"text-align: left;\">Int64</th></tr></thead><tbody><tr><td class = \"rowNumber\" style = \"font-weight: bold; text-align: right;\">1</td><td style = \"text-align: right;\">23</td><td style = \"text-align: right;\">84</td><td style = \"text-align: left;\">Low</td><td style = \"text-align: left;\">High</td><td style = \"text-align: left;\">No</td><td style = \"text-align: right;\">7</td><td style = \"text-align: right;\">73</td><td style = \"text-align: left;\">Low</td><td style = \"text-align: left;\">Yes</td><td style = \"text-align: right;\">0</td><td style = \"text-align: left;\">Low</td><td style = \"text-align: left;\">Medium</td><td style = \"text-align: left;\">Public</td><td style = \"text-align: left;\">Positive</td><td style = \"text-align: right;\">3</td><td style = \"text-align: left;\">No</td><td style = \"text-align: left;\">High School</td><td style = \"text-align: left;\">Near</td><td style = \"text-align: left;\">Male</td><td style = \"text-align: right;\">67</td></tr><tr><td class = \"rowNumber\" style = \"font-weight: bold; text-align: right;\">2</td><td style = \"text-align: right;\">19</td><td style = \"text-align: right;\">64</td><td style = \"text-align: left;\">Low</td><td style = \"text-align: left;\">Medium</td><td style = \"text-align: left;\">No</td><td style = \"text-align: right;\">8</td><td style = \"text-align: right;\">59</td><td style = \"text-align: left;\">Low</td><td style = \"text-align: left;\">Yes</td><td style = \"text-align: right;\">2</td><td style = \"text-align: left;\">Medium</td><td style = \"text-align: left;\">Medium</td><td style = \"text-align: left;\">Public</td><td style = \"text-align: left;\">Negative</td><td style = \"text-align: right;\">4</td><td style = \"text-align: left;\">No</td><td style = \"text-align: left;\">College</td><td style = \"text-align: left;\">Moderate</td><td style = \"text-align: left;\">Female</td><td style = \"text-align: right;\">61</td></tr><tr><td class = \"rowNumber\" style = \"font-weight: bold; text-align: right;\">3</td><td style = \"text-align: right;\">24</td><td style = \"text-align: right;\">98</td><td style = \"text-align: left;\">Medium</td><td style = \"text-align: left;\">Medium</td><td style = \"text-align: left;\">Yes</td><td style = \"text-align: right;\">7</td><td style = \"text-align: right;\">91</td><td style = \"text-align: left;\">Medium</td><td style = \"text-align: left;\">Yes</td><td style = \"text-align: right;\">2</td><td style = \"text-align: left;\">Medium</td><td style = \"text-align: left;\">Medium</td><td style = \"text-align: left;\">Public</td><td style = \"text-align: left;\">Neutral</td><td style = \"text-align: right;\">4</td><td style = \"text-align: left;\">No</td><td style = \"text-align: left;\">Postgraduate</td><td style = \"text-align: left;\">Near</td><td style = \"text-align: left;\">Male</td><td style = \"text-align: right;\">74</td></tr><tr><td class = \"rowNumber\" style = \"font-weight: bold; text-align: right;\">4</td><td style = \"text-align: right;\">29</td><td style = \"text-align: right;\">89</td><td style = \"text-align: left;\">Low</td><td style = \"text-align: left;\">Medium</td><td style = \"text-align: left;\">Yes</td><td style = \"text-align: right;\">8</td><td style = \"text-align: right;\">98</td><td style = \"text-align: left;\">Medium</td><td style = \"text-align: left;\">Yes</td><td style = \"text-align: right;\">1</td><td style = \"text-align: left;\">Medium</td><td style = \"text-align: left;\">Medium</td><td style = \"text-align: left;\">Public</td><td style = \"text-align: left;\">Negative</td><td style = \"text-align: right;\">4</td><td style = \"text-align: left;\">No</td><td style = \"text-align: left;\">High School</td><td style = \"text-align: left;\">Moderate</td><td style = \"text-align: left;\">Male</td><td style = \"text-align: right;\">71</td></tr><tr><td class = \"rowNumber\" style = \"font-weight: bold; text-align: right;\">5</td><td style = \"text-align: right;\">19</td><td style = \"text-align: right;\">92</td><td style = \"text-align: left;\">Medium</td><td style = \"text-align: left;\">Medium</td><td style = \"text-align: left;\">Yes</td><td style = \"text-align: right;\">6</td><td style = \"text-align: right;\">65</td><td style = \"text-align: left;\">Medium</td><td style = \"text-align: left;\">Yes</td><td style = \"text-align: right;\">3</td><td style = \"text-align: left;\">Medium</td><td style = \"text-align: left;\">High</td><td style = \"text-align: left;\">Public</td><td style = \"text-align: left;\">Neutral</td><td style = \"text-align: right;\">4</td><td style = \"text-align: left;\">No</td><td style = \"text-align: left;\">College</td><td style = \"text-align: left;\">Near</td><td style = \"text-align: left;\">Female</td><td style = \"text-align: right;\">70</td></tr><tr><td class = \"rowNumber\" style = \"font-weight: bold; text-align: right;\">6</td><td style = \"text-align: right;\">19</td><td style = \"text-align: right;\">88</td><td style = \"text-align: left;\">Medium</td><td style = \"text-align: left;\">Medium</td><td style = \"text-align: left;\">Yes</td><td style = \"text-align: right;\">8</td><td style = \"text-align: right;\">89</td><td style = \"text-align: left;\">Medium</td><td style = \"text-align: left;\">Yes</td><td style = \"text-align: right;\">3</td><td style = \"text-align: left;\">Medium</td><td style = \"text-align: left;\">Medium</td><td style = \"text-align: left;\">Public</td><td style = \"text-align: left;\">Positive</td><td style = \"text-align: right;\">3</td><td style = \"text-align: left;\">No</td><td style = \"text-align: left;\">Postgraduate</td><td style = \"text-align: left;\">Near</td><td style = \"text-align: left;\">Male</td><td style = \"text-align: right;\">71</td></tr><tr><td class = \"rowNumber\" style = \"font-weight: bold; text-align: right;\">7</td><td style = \"text-align: right;\">29</td><td style = \"text-align: right;\">84</td><td style = \"text-align: left;\">Medium</td><td style = \"text-align: left;\">Low</td><td style = \"text-align: left;\">Yes</td><td style = \"text-align: right;\">7</td><td style = \"text-align: right;\">68</td><td style = \"text-align: left;\">Low</td><td style = \"text-align: left;\">Yes</td><td style = \"text-align: right;\">1</td><td style = \"text-align: left;\">Low</td><td style = \"text-align: left;\">Medium</td><td style = \"text-align: left;\">Private</td><td style = \"text-align: left;\">Neutral</td><td style = \"text-align: right;\">2</td><td style = \"text-align: left;\">No</td><td style = \"text-align: left;\">High School</td><td style = \"text-align: left;\">Moderate</td><td style = \"text-align: left;\">Male</td><td style = \"text-align: right;\">67</td></tr><tr><td class = \"rowNumber\" style = \"font-weight: bold; text-align: right;\">8</td><td style = \"text-align: right;\">25</td><td style = \"text-align: right;\">78</td><td style = \"text-align: left;\">Low</td><td style = \"text-align: left;\">High</td><td style = \"text-align: left;\">Yes</td><td style = \"text-align: right;\">6</td><td style = \"text-align: right;\">50</td><td style = \"text-align: left;\">Medium</td><td style = \"text-align: left;\">Yes</td><td style = \"text-align: right;\">1</td><td style = \"text-align: left;\">High</td><td style = \"text-align: left;\">High</td><td style = \"text-align: left;\">Public</td><td style = \"text-align: left;\">Negative</td><td style = \"text-align: right;\">2</td><td style = \"text-align: left;\">No</td><td style = \"text-align: left;\">High School</td><td style = \"text-align: left;\">Far</td><td style = \"text-align: left;\">Male</td><td style = \"text-align: right;\">66</td></tr><tr><td class = \"rowNumber\" style = \"font-weight: bold; text-align: right;\">9</td><td style = \"text-align: right;\">17</td><td style = \"text-align: right;\">94</td><td style = \"text-align: left;\">Medium</td><td style = \"text-align: left;\">High</td><td style = \"text-align: left;\">No</td><td style = \"text-align: right;\">6</td><td style = \"text-align: right;\">80</td><td style = \"text-align: left;\">High</td><td style = \"text-align: left;\">Yes</td><td style = \"text-align: right;\">0</td><td style = \"text-align: left;\">Medium</td><td style = \"text-align: left;\">Low</td><td style = \"text-align: left;\">Private</td><td style = \"text-align: left;\">Neutral</td><td style = \"text-align: right;\">1</td><td style = \"text-align: left;\">No</td><td style = \"text-align: left;\">College</td><td style = \"text-align: left;\">Near</td><td style = \"text-align: left;\">Male</td><td style = \"text-align: right;\">69</td></tr><tr><td class = \"rowNumber\" style = \"font-weight: bold; text-align: right;\">10</td><td style = \"text-align: right;\">23</td><td style = \"text-align: right;\">98</td><td style = \"text-align: left;\">Medium</td><td style = \"text-align: left;\">Medium</td><td style = \"text-align: left;\">Yes</td><td style = \"text-align: right;\">8</td><td style = \"text-align: right;\">71</td><td style = \"text-align: left;\">Medium</td><td style = \"text-align: left;\">Yes</td><td style = \"text-align: right;\">0</td><td style = \"text-align: left;\">High</td><td style = \"text-align: left;\">High</td><td style = \"text-align: left;\">Public</td><td style = \"text-align: left;\">Positive</td><td style = \"text-align: right;\">5</td><td style = \"text-align: left;\">No</td><td style = \"text-align: left;\">High School</td><td style = \"text-align: left;\">Moderate</td><td style = \"text-align: left;\">Male</td><td style = \"text-align: right;\">72</td></tr><tr><td class = \"rowNumber\" style = \"font-weight: bold; text-align: right;\">11</td><td style = \"text-align: right;\">17</td><td style = \"text-align: right;\">80</td><td style = \"text-align: left;\">Low</td><td style = \"text-align: left;\">High</td><td style = \"text-align: left;\">No</td><td style = \"text-align: right;\">8</td><td style = \"text-align: right;\">88</td><td style = \"text-align: left;\">Medium</td><td style = \"text-align: left;\">No</td><td style = \"text-align: right;\">4</td><td style = \"text-align: left;\">Medium</td><td style = \"text-align: left;\">High</td><td style = \"text-align: left;\">Private</td><td style = \"text-align: left;\">Neutral</td><td style = \"text-align: right;\">4</td><td style = \"text-align: left;\">No</td><td style = \"text-align: left;\">College</td><td style = \"text-align: left;\">Moderate</td><td style = \"text-align: left;\">Male</td><td style = \"text-align: right;\">68</td></tr><tr><td class = \"rowNumber\" style = \"font-weight: bold; text-align: right;\">12</td><td style = \"text-align: right;\">17</td><td style = \"text-align: right;\">97</td><td style = \"text-align: left;\">Medium</td><td style = \"text-align: left;\">High</td><td style = \"text-align: left;\">Yes</td><td style = \"text-align: right;\">6</td><td style = \"text-align: right;\">87</td><td style = \"text-align: left;\">Low</td><td style = \"text-align: left;\">Yes</td><td style = \"text-align: right;\">2</td><td style = \"text-align: left;\">Low</td><td style = \"text-align: left;\">High</td><td style = \"text-align: left;\">Private</td><td style = \"text-align: left;\">Neutral</td><td style = \"text-align: right;\">2</td><td style = \"text-align: left;\">No</td><td style = \"text-align: left;\">High School</td><td style = \"text-align: left;\">Near</td><td style = \"text-align: left;\">Male</td><td style = \"text-align: right;\">71</td></tr><tr><td class = \"rowNumber\" style = \"font-weight: bold; text-align: right;\">13</td><td style = \"text-align: right;\">21</td><td style = \"text-align: right;\">83</td><td style = \"text-align: left;\">Medium</td><td style = \"text-align: left;\">Medium</td><td style = \"text-align: left;\">Yes</td><td style = \"text-align: right;\">8</td><td style = \"text-align: right;\">97</td><td style = \"text-align: left;\">Low</td><td style = \"text-align: left;\">Yes</td><td style = \"text-align: right;\">2</td><td style = \"text-align: left;\">Medium</td><td style = \"text-align: left;\">Medium</td><td style = \"text-align: left;\">Public</td><td style = \"text-align: left;\">Positive</td><td style = \"text-align: right;\">4</td><td style = \"text-align: left;\">No</td><td style = \"text-align: left;\">High School</td><td style = \"text-align: left;\">Near</td><td style = \"text-align: left;\">Male</td><td style = \"text-align: right;\">70</td></tr><tr><td style = \"text-align: right;\">&vellip;</td><td style = \"text-align: right;\">&vellip;</td><td style = \"text-align: right;\">&vellip;</td><td style = \"text-align: right;\">&vellip;</td><td style = \"text-align: right;\">&vellip;</td><td style = \"text-align: right;\">&vellip;</td><td style = \"text-align: right;\">&vellip;</td><td style = \"text-align: right;\">&vellip;</td><td style = \"text-align: right;\">&vellip;</td><td style = \"text-align: right;\">&vellip;</td><td style = \"text-align: right;\">&vellip;</td><td style = \"text-align: right;\">&vellip;</td><td style = \"text-align: right;\">&vellip;</td><td style = \"text-align: right;\">&vellip;</td><td style = \"text-align: right;\">&vellip;</td><td style = \"text-align: right;\">&vellip;</td><td style = \"text-align: right;\">&vellip;</td><td style = \"text-align: right;\">&vellip;</td><td style = \"text-align: right;\">&vellip;</td><td style = \"text-align: right;\">&vellip;</td><td style = \"text-align: right;\">&vellip;</td></tr><tr><td class = \"rowNumber\" style = \"font-weight: bold; text-align: right;\">6596</td><td style = \"text-align: right;\">28</td><td style = \"text-align: right;\">78</td><td style = \"text-align: left;\">Medium</td><td style = \"text-align: left;\">High</td><td style = \"text-align: left;\">No</td><td style = \"text-align: right;\">7</td><td style = \"text-align: right;\">92</td><td style = \"text-align: left;\">Low</td><td style = \"text-align: left;\">Yes</td><td style = \"text-align: right;\">1</td><td style = \"text-align: left;\">Medium</td><td style = \"text-align: left;\">High</td><td style = \"text-align: left;\">Public</td><td style = \"text-align: left;\">Positive</td><td style = \"text-align: right;\">3</td><td style = \"text-align: left;\">No</td><td style = \"text-align: left;\">Postgraduate</td><td style = \"text-align: left;\">Moderate</td><td style = \"text-align: left;\">Female</td><td style = \"text-align: right;\">71</td></tr><tr><td class = \"rowNumber\" style = \"font-weight: bold; text-align: right;\">6597</td><td style = \"text-align: right;\">17</td><td style = \"text-align: right;\">92</td><td style = \"text-align: left;\">Medium</td><td style = \"text-align: left;\">Medium</td><td style = \"text-align: left;\">No</td><td style = \"text-align: right;\">7</td><td style = \"text-align: right;\">66</td><td style = \"text-align: left;\">Low</td><td style = \"text-align: left;\">Yes</td><td style = \"text-align: right;\">2</td><td style = \"text-align: left;\">Low</td><td style = \"font-style: italic; text-align: left;\">missing</td><td style = \"text-align: left;\">Public</td><td style = \"text-align: left;\">Negative</td><td style = \"text-align: right;\">3</td><td style = \"text-align: left;\">No</td><td style = \"text-align: left;\">High School</td><td style = \"text-align: left;\">Near</td><td style = \"text-align: left;\">Male</td><td style = \"text-align: right;\">66</td></tr><tr><td class = \"rowNumber\" style = \"font-weight: bold; text-align: right;\">6598</td><td style = \"text-align: right;\">16</td><td style = \"text-align: right;\">91</td><td style = \"text-align: left;\">High</td><td style = \"text-align: left;\">Medium</td><td style = \"text-align: left;\">Yes</td><td style = \"text-align: right;\">6</td><td style = \"text-align: right;\">72</td><td style = \"text-align: left;\">High</td><td style = \"text-align: left;\">Yes</td><td style = \"text-align: right;\">0</td><td style = \"text-align: left;\">High</td><td style = \"text-align: left;\">High</td><td style = \"text-align: left;\">Public</td><td style = \"text-align: left;\">Negative</td><td style = \"text-align: right;\">2</td><td style = \"text-align: left;\">No</td><td style = \"text-align: left;\">Postgraduate</td><td style = \"text-align: left;\">Near</td><td style = \"text-align: left;\">Female</td><td style = \"text-align: right;\">70</td></tr><tr><td class = \"rowNumber\" style = \"font-weight: bold; text-align: right;\">6599</td><td style = \"text-align: right;\">9</td><td style = \"text-align: right;\">87</td><td style = \"text-align: left;\">Low</td><td style = \"text-align: left;\">Medium</td><td style = \"text-align: left;\">Yes</td><td style = \"text-align: right;\">6</td><td style = \"text-align: right;\">64</td><td style = \"text-align: left;\">Medium</td><td style = \"text-align: left;\">Yes</td><td style = \"text-align: right;\">1</td><td style = \"text-align: left;\">High</td><td style = \"text-align: left;\">Medium</td><td style = \"text-align: left;\">Public</td><td style = \"text-align: left;\">Neutral</td><td style = \"text-align: right;\">2</td><td style = \"text-align: left;\">No</td><td style = \"text-align: left;\">High School</td><td style = \"text-align: left;\">Near</td><td style = \"text-align: left;\">Female</td><td style = \"text-align: right;\">64</td></tr><tr><td class = \"rowNumber\" style = \"font-weight: bold; text-align: right;\">6600</td><td style = \"text-align: right;\">30</td><td style = \"text-align: right;\">94</td><td style = \"text-align: left;\">Medium</td><td style = \"text-align: left;\">Low</td><td style = \"text-align: left;\">No</td><td style = \"text-align: right;\">5</td><td style = \"text-align: right;\">52</td><td style = \"text-align: left;\">Low</td><td style = \"text-align: left;\">No</td><td style = \"text-align: right;\">3</td><td style = \"text-align: left;\">High</td><td style = \"text-align: left;\">Medium</td><td style = \"text-align: left;\">Private</td><td style = \"text-align: left;\">Neutral</td><td style = \"text-align: right;\">2</td><td style = \"text-align: left;\">No</td><td style = \"text-align: left;\">Postgraduate</td><td style = \"text-align: left;\">Moderate</td><td style = \"text-align: left;\">Female</td><td style = \"text-align: right;\">70</td></tr><tr><td class = \"rowNumber\" style = \"font-weight: bold; text-align: right;\">6601</td><td style = \"text-align: right;\">12</td><td style = \"text-align: right;\">98</td><td style = \"text-align: left;\">Medium</td><td style = \"text-align: left;\">Low</td><td style = \"text-align: left;\">Yes</td><td style = \"text-align: right;\">4</td><td style = \"text-align: right;\">54</td><td style = \"text-align: left;\">Medium</td><td style = \"text-align: left;\">Yes</td><td style = \"text-align: right;\">2</td><td style = \"text-align: left;\">Medium</td><td style = \"text-align: left;\">High</td><td style = \"text-align: left;\">Private</td><td style = \"text-align: left;\">Neutral</td><td style = \"text-align: right;\">3</td><td style = \"text-align: left;\">No</td><td style = \"text-align: left;\">High School</td><td style = \"text-align: left;\">Near</td><td style = \"text-align: left;\">Female</td><td style = \"text-align: right;\">67</td></tr><tr><td class = \"rowNumber\" style = \"font-weight: bold; text-align: right;\">6602</td><td style = \"text-align: right;\">20</td><td style = \"text-align: right;\">83</td><td style = \"text-align: left;\">Medium</td><td style = \"text-align: left;\">Low</td><td style = \"text-align: left;\">No</td><td style = \"text-align: right;\">6</td><td style = \"text-align: right;\">51</td><td style = \"text-align: left;\">Low</td><td style = \"text-align: left;\">Yes</td><td style = \"text-align: right;\">2</td><td style = \"text-align: left;\">Medium</td><td style = \"text-align: left;\">Medium</td><td style = \"text-align: left;\">Public</td><td style = \"text-align: left;\">Neutral</td><td style = \"text-align: right;\">4</td><td style = \"text-align: left;\">No</td><td style = \"text-align: left;\">High School</td><td style = \"text-align: left;\">Moderate</td><td style = \"text-align: left;\">Female</td><td style = \"text-align: right;\">65</td></tr><tr><td class = \"rowNumber\" style = \"font-weight: bold; text-align: right;\">6603</td><td style = \"text-align: right;\">25</td><td style = \"text-align: right;\">69</td><td style = \"text-align: left;\">High</td><td style = \"text-align: left;\">Medium</td><td style = \"text-align: left;\">No</td><td style = \"text-align: right;\">7</td><td style = \"text-align: right;\">76</td><td style = \"text-align: left;\">Medium</td><td style = \"text-align: left;\">Yes</td><td style = \"text-align: right;\">1</td><td style = \"text-align: left;\">High</td><td style = \"text-align: left;\">Medium</td><td style = \"text-align: left;\">Public</td><td style = \"text-align: left;\">Positive</td><td style = \"text-align: right;\">2</td><td style = \"text-align: left;\">No</td><td style = \"text-align: left;\">High School</td><td style = \"text-align: left;\">Near</td><td style = \"text-align: left;\">Female</td><td style = \"text-align: right;\">68</td></tr><tr><td class = \"rowNumber\" style = \"font-weight: bold; text-align: right;\">6604</td><td style = \"text-align: right;\">23</td><td style = \"text-align: right;\">76</td><td style = \"text-align: left;\">High</td><td style = \"text-align: left;\">Medium</td><td style = \"text-align: left;\">No</td><td style = \"text-align: right;\">8</td><td style = \"text-align: right;\">81</td><td style = \"text-align: left;\">Medium</td><td style = \"text-align: left;\">Yes</td><td style = \"text-align: right;\">3</td><td style = \"text-align: left;\">Low</td><td style = \"text-align: left;\">High</td><td style = \"text-align: left;\">Public</td><td style = \"text-align: left;\">Positive</td><td style = \"text-align: right;\">2</td><td style = \"text-align: left;\">No</td><td style = \"text-align: left;\">High School</td><td style = \"text-align: left;\">Near</td><td style = \"text-align: left;\">Female</td><td style = \"text-align: right;\">69</td></tr><tr><td class = \"rowNumber\" style = \"font-weight: bold; text-align: right;\">6605</td><td style = \"text-align: right;\">20</td><td style = \"text-align: right;\">90</td><td style = \"text-align: left;\">Medium</td><td style = \"text-align: left;\">Low</td><td style = \"text-align: left;\">Yes</td><td style = \"text-align: right;\">6</td><td style = \"text-align: right;\">65</td><td style = \"text-align: left;\">Low</td><td style = \"text-align: left;\">Yes</td><td style = \"text-align: right;\">3</td><td style = \"text-align: left;\">Low</td><td style = \"text-align: left;\">Medium</td><td style = \"text-align: left;\">Public</td><td style = \"text-align: left;\">Negative</td><td style = \"text-align: right;\">2</td><td style = \"text-align: left;\">No</td><td style = \"text-align: left;\">Postgraduate</td><td style = \"text-align: left;\">Near</td><td style = \"text-align: left;\">Female</td><td style = \"text-align: right;\">68</td></tr><tr><td class = \"rowNumber\" style = \"font-weight: bold; text-align: right;\">6606</td><td style = \"text-align: right;\">10</td><td style = \"text-align: right;\">86</td><td style = \"text-align: left;\">High</td><td style = \"text-align: left;\">High</td><td style = \"text-align: left;\">Yes</td><td style = \"text-align: right;\">6</td><td style = \"text-align: right;\">91</td><td style = \"text-align: left;\">High</td><td style = \"text-align: left;\">Yes</td><td style = \"text-align: right;\">2</td><td style = \"text-align: left;\">Low</td><td style = \"text-align: left;\">Medium</td><td style = \"text-align: left;\">Private</td><td style = \"text-align: left;\">Positive</td><td style = \"text-align: right;\">3</td><td style = \"text-align: left;\">No</td><td style = \"text-align: left;\">High School</td><td style = \"text-align: left;\">Far</td><td style = \"text-align: left;\">Female</td><td style = \"text-align: right;\">68</td></tr><tr><td class = \"rowNumber\" style = \"font-weight: bold; text-align: right;\">6607</td><td style = \"text-align: right;\">15</td><td style = \"text-align: right;\">67</td><td style = \"text-align: left;\">Medium</td><td style = \"text-align: left;\">Low</td><td style = \"text-align: left;\">Yes</td><td style = \"text-align: right;\">9</td><td style = \"text-align: right;\">94</td><td style = \"text-align: left;\">Medium</td><td style = \"text-align: left;\">Yes</td><td style = \"text-align: right;\">0</td><td style = \"text-align: left;\">Medium</td><td style = \"text-align: left;\">Medium</td><td style = \"text-align: left;\">Public</td><td style = \"text-align: left;\">Positive</td><td style = \"text-align: right;\">4</td><td style = \"text-align: left;\">No</td><td style = \"text-align: left;\">Postgraduate</td><td style = \"text-align: left;\">Near</td><td style = \"text-align: left;\">Male</td><td style = \"text-align: right;\">64</td></tr></tbody></table></div>"
      ],
      "text/latex": [
       "\\begin{tabular}{r|cccccc}\n",
       "\t& Hours\\_Studied & Attendance & Parental\\_Involvement & Access\\_to\\_Resources & Extracurricular\\_Activities & \\\\\n",
       "\t\\hline\n",
       "\t& Int64 & Int64 & String7 & String7 & String3 & \\\\\n",
       "\t\\hline\n",
       "\t1 & 23 & 84 & Low & High & No & $\\dots$ \\\\\n",
       "\t2 & 19 & 64 & Low & Medium & No & $\\dots$ \\\\\n",
       "\t3 & 24 & 98 & Medium & Medium & Yes & $\\dots$ \\\\\n",
       "\t4 & 29 & 89 & Low & Medium & Yes & $\\dots$ \\\\\n",
       "\t5 & 19 & 92 & Medium & Medium & Yes & $\\dots$ \\\\\n",
       "\t6 & 19 & 88 & Medium & Medium & Yes & $\\dots$ \\\\\n",
       "\t7 & 29 & 84 & Medium & Low & Yes & $\\dots$ \\\\\n",
       "\t8 & 25 & 78 & Low & High & Yes & $\\dots$ \\\\\n",
       "\t9 & 17 & 94 & Medium & High & No & $\\dots$ \\\\\n",
       "\t10 & 23 & 98 & Medium & Medium & Yes & $\\dots$ \\\\\n",
       "\t11 & 17 & 80 & Low & High & No & $\\dots$ \\\\\n",
       "\t12 & 17 & 97 & Medium & High & Yes & $\\dots$ \\\\\n",
       "\t13 & 21 & 83 & Medium & Medium & Yes & $\\dots$ \\\\\n",
       "\t14 & 9 & 82 & Medium & Medium & Yes & $\\dots$ \\\\\n",
       "\t15 & 10 & 78 & Medium & High & Yes & $\\dots$ \\\\\n",
       "\t16 & 17 & 68 & Medium & Medium & No & $\\dots$ \\\\\n",
       "\t17 & 14 & 60 & Medium & Low & Yes & $\\dots$ \\\\\n",
       "\t18 & 22 & 70 & Low & Medium & Yes & $\\dots$ \\\\\n",
       "\t19 & 15 & 80 & Medium & Medium & Yes & $\\dots$ \\\\\n",
       "\t20 & 12 & 75 & Medium & High & Yes & $\\dots$ \\\\\n",
       "\t21 & 29 & 78 & Medium & Medium & No & $\\dots$ \\\\\n",
       "\t22 & 19 & 99 & Medium & High & No & $\\dots$ \\\\\n",
       "\t23 & 20 & 74 & Medium & High & No & $\\dots$ \\\\\n",
       "\t24 & 11 & 78 & High & Medium & Yes & $\\dots$ \\\\\n",
       "\t25 & 17 & 65 & Low & High & Yes & $\\dots$ \\\\\n",
       "\t26 & 21 & 62 & High & Low & Yes & $\\dots$ \\\\\n",
       "\t27 & 13 & 91 & Low & Medium & No & $\\dots$ \\\\\n",
       "\t28 & 22 & 83 & High & High & Yes & $\\dots$ \\\\\n",
       "\t29 & 16 & 90 & Medium & Medium & No & $\\dots$ \\\\\n",
       "\t30 & 18 & 66 & High & High & No & $\\dots$ \\\\\n",
       "\t$\\dots$ & $\\dots$ & $\\dots$ & $\\dots$ & $\\dots$ & $\\dots$ &  \\\\\n",
       "\\end{tabular}\n"
      ],
      "text/plain": [
       "\u001b[1m6607×20 DataFrame\u001b[0m\n",
       "\u001b[1m  Row \u001b[0m│\u001b[1m Hours_Studied \u001b[0m\u001b[1m Attendance \u001b[0m\u001b[1m Parental_Involvement \u001b[0m\u001b[1m Access_to_Resources \u001b[0m\u001b[1m \u001b[0m ⋯\n",
       "      │\u001b[90m Int64         \u001b[0m\u001b[90m Int64      \u001b[0m\u001b[90m String7              \u001b[0m\u001b[90m String7             \u001b[0m\u001b[90m \u001b[0m ⋯\n",
       "──────┼─────────────────────────────────────────────────────────────────────────\n",
       "    1 │            23          84  Low                   High                  ⋯\n",
       "    2 │            19          64  Low                   Medium\n",
       "    3 │            24          98  Medium                Medium\n",
       "    4 │            29          89  Low                   Medium\n",
       "    5 │            19          92  Medium                Medium                ⋯\n",
       "    6 │            19          88  Medium                Medium\n",
       "    7 │            29          84  Medium                Low\n",
       "    8 │            25          78  Low                   High\n",
       "    9 │            17          94  Medium                High                  ⋯\n",
       "   10 │            23          98  Medium                Medium\n",
       "   11 │            17          80  Low                   High\n",
       "  ⋮   │       ⋮            ⋮                ⋮                     ⋮            ⋱\n",
       " 6598 │            16          91  High                  Medium\n",
       " 6599 │             9          87  Low                   Medium                ⋯\n",
       " 6600 │            30          94  Medium                Low\n",
       " 6601 │            12          98  Medium                Low\n",
       " 6602 │            20          83  Medium                Low\n",
       " 6603 │            25          69  High                  Medium                ⋯\n",
       " 6604 │            23          76  High                  Medium\n",
       " 6605 │            20          90  Medium                Low\n",
       " 6606 │            10          86  High                  High\n",
       " 6607 │            15          67  Medium                Low                   ⋯\n",
       "\u001b[36m                                                16 columns and 6586 rows omitted\u001b[0m"
      ]
     },
     "execution_count": 3,
     "metadata": {},
     "output_type": "execute_result"
    }
   ],
   "source": [
    "#Loading the dataset:StudentPerformanceFactors.csv\n",
    "using CSV, DataFrames\n",
    "df = CSV.File(\"StudentPerformanceFactors.csv\") |> DataFrame"
   ]
  },
  {
   "cell_type": "code",
   "execution_count": 4,
   "id": "a83a6021-f51b-4543-84a0-46cffcc01d6e",
   "metadata": {},
   "outputs": [
    {
     "data": {
      "text/html": [
       "<div><div style = \"float: left;\"><span>20×7 DataFrame</span></div><div style = \"clear: both;\"></div></div><div class = \"data-frame\" style = \"overflow-x: scroll;\"><table class = \"data-frame\" style = \"margin-bottom: 6px;\"><thead><tr class = \"header\"><th class = \"rowNumber\" style = \"font-weight: bold; text-align: right;\">Row</th><th style = \"text-align: left;\">variable</th><th style = \"text-align: left;\">mean</th><th style = \"text-align: left;\">min</th><th style = \"text-align: left;\">median</th><th style = \"text-align: left;\">max</th><th style = \"text-align: left;\">nmissing</th><th style = \"text-align: left;\">eltype</th></tr><tr class = \"subheader headerLastRow\"><th class = \"rowNumber\" style = \"font-weight: bold; text-align: right;\"></th><th title = \"Symbol\" style = \"text-align: left;\">Symbol</th><th title = \"Union{Nothing, Float64}\" style = \"text-align: left;\">Union…</th><th title = \"Any\" style = \"text-align: left;\">Any</th><th title = \"Union{Nothing, Float64}\" style = \"text-align: left;\">Union…</th><th title = \"Any\" style = \"text-align: left;\">Any</th><th title = \"Int64\" style = \"text-align: left;\">Int64</th><th title = \"Type\" style = \"text-align: left;\">Type</th></tr></thead><tbody><tr><td class = \"rowNumber\" style = \"font-weight: bold; text-align: right;\">1</td><td style = \"text-align: left;\">Hours_Studied</td><td style = \"text-align: left;\">19.9753</td><td style = \"text-align: left;\">1</td><td style = \"text-align: left;\">20.0</td><td style = \"text-align: left;\">44</td><td style = \"text-align: right;\">0</td><td style = \"text-align: left;\">Int64</td></tr><tr><td class = \"rowNumber\" style = \"font-weight: bold; text-align: right;\">2</td><td style = \"text-align: left;\">Attendance</td><td style = \"text-align: left;\">79.9774</td><td style = \"text-align: left;\">60</td><td style = \"text-align: left;\">80.0</td><td style = \"text-align: left;\">100</td><td style = \"text-align: right;\">0</td><td style = \"text-align: left;\">Int64</td></tr><tr><td class = \"rowNumber\" style = \"font-weight: bold; text-align: right;\">3</td><td style = \"text-align: left;\">Parental_Involvement</td><td style = \"font-style: italic; text-align: left;\"></td><td style = \"text-align: left;\">High</td><td style = \"font-style: italic; text-align: left;\"></td><td style = \"text-align: left;\">Medium</td><td style = \"text-align: right;\">0</td><td style = \"text-align: left;\">String7</td></tr><tr><td class = \"rowNumber\" style = \"font-weight: bold; text-align: right;\">4</td><td style = \"text-align: left;\">Access_to_Resources</td><td style = \"font-style: italic; text-align: left;\"></td><td style = \"text-align: left;\">High</td><td style = \"font-style: italic; text-align: left;\"></td><td style = \"text-align: left;\">Medium</td><td style = \"text-align: right;\">0</td><td style = \"text-align: left;\">String7</td></tr><tr><td class = \"rowNumber\" style = \"font-weight: bold; text-align: right;\">5</td><td style = \"text-align: left;\">Extracurricular_Activities</td><td style = \"font-style: italic; text-align: left;\"></td><td style = \"text-align: left;\">No</td><td style = \"font-style: italic; text-align: left;\"></td><td style = \"text-align: left;\">Yes</td><td style = \"text-align: right;\">0</td><td style = \"text-align: left;\">String3</td></tr><tr><td class = \"rowNumber\" style = \"font-weight: bold; text-align: right;\">6</td><td style = \"text-align: left;\">Sleep_Hours</td><td style = \"text-align: left;\">7.02906</td><td style = \"text-align: left;\">4</td><td style = \"text-align: left;\">7.0</td><td style = \"text-align: left;\">10</td><td style = \"text-align: right;\">0</td><td style = \"text-align: left;\">Int64</td></tr><tr><td class = \"rowNumber\" style = \"font-weight: bold; text-align: right;\">7</td><td style = \"text-align: left;\">Previous_Scores</td><td style = \"text-align: left;\">75.0705</td><td style = \"text-align: left;\">50</td><td style = \"text-align: left;\">75.0</td><td style = \"text-align: left;\">100</td><td style = \"text-align: right;\">0</td><td style = \"text-align: left;\">Int64</td></tr><tr><td class = \"rowNumber\" style = \"font-weight: bold; text-align: right;\">8</td><td style = \"text-align: left;\">Motivation_Level</td><td style = \"font-style: italic; text-align: left;\"></td><td style = \"text-align: left;\">High</td><td style = \"font-style: italic; text-align: left;\"></td><td style = \"text-align: left;\">Medium</td><td style = \"text-align: right;\">0</td><td style = \"text-align: left;\">String7</td></tr><tr><td class = \"rowNumber\" style = \"font-weight: bold; text-align: right;\">9</td><td style = \"text-align: left;\">Internet_Access</td><td style = \"font-style: italic; text-align: left;\"></td><td style = \"text-align: left;\">No</td><td style = \"font-style: italic; text-align: left;\"></td><td style = \"text-align: left;\">Yes</td><td style = \"text-align: right;\">0</td><td style = \"text-align: left;\">String3</td></tr><tr><td class = \"rowNumber\" style = \"font-weight: bold; text-align: right;\">10</td><td style = \"text-align: left;\">Tutoring_Sessions</td><td style = \"text-align: left;\">1.49372</td><td style = \"text-align: left;\">0</td><td style = \"text-align: left;\">1.0</td><td style = \"text-align: left;\">8</td><td style = \"text-align: right;\">0</td><td style = \"text-align: left;\">Int64</td></tr><tr><td class = \"rowNumber\" style = \"font-weight: bold; text-align: right;\">11</td><td style = \"text-align: left;\">Family_Income</td><td style = \"font-style: italic; text-align: left;\"></td><td style = \"text-align: left;\">High</td><td style = \"font-style: italic; text-align: left;\"></td><td style = \"text-align: left;\">Medium</td><td style = \"text-align: right;\">0</td><td style = \"text-align: left;\">String7</td></tr><tr><td class = \"rowNumber\" style = \"font-weight: bold; text-align: right;\">12</td><td style = \"text-align: left;\">Teacher_Quality</td><td style = \"font-style: italic; text-align: left;\"></td><td style = \"text-align: left;\">High</td><td style = \"font-style: italic; text-align: left;\"></td><td style = \"text-align: left;\">Medium</td><td style = \"text-align: right;\">78</td><td style = \"text-align: left;\">Union{Missing, String7}</td></tr><tr><td class = \"rowNumber\" style = \"font-weight: bold; text-align: right;\">13</td><td style = \"text-align: left;\">School_Type</td><td style = \"font-style: italic; text-align: left;\"></td><td style = \"text-align: left;\">Private</td><td style = \"font-style: italic; text-align: left;\"></td><td style = \"text-align: left;\">Public</td><td style = \"text-align: right;\">0</td><td style = \"text-align: left;\">String7</td></tr><tr><td class = \"rowNumber\" style = \"font-weight: bold; text-align: right;\">14</td><td style = \"text-align: left;\">Peer_Influence</td><td style = \"font-style: italic; text-align: left;\"></td><td style = \"text-align: left;\">Negative</td><td style = \"font-style: italic; text-align: left;\"></td><td style = \"text-align: left;\">Positive</td><td style = \"text-align: right;\">0</td><td style = \"text-align: left;\">String15</td></tr><tr><td class = \"rowNumber\" style = \"font-weight: bold; text-align: right;\">15</td><td style = \"text-align: left;\">Physical_Activity</td><td style = \"text-align: left;\">2.96761</td><td style = \"text-align: left;\">0</td><td style = \"text-align: left;\">3.0</td><td style = \"text-align: left;\">6</td><td style = \"text-align: right;\">0</td><td style = \"text-align: left;\">Int64</td></tr><tr><td class = \"rowNumber\" style = \"font-weight: bold; text-align: right;\">16</td><td style = \"text-align: left;\">Learning_Disabilities</td><td style = \"font-style: italic; text-align: left;\"></td><td style = \"text-align: left;\">No</td><td style = \"font-style: italic; text-align: left;\"></td><td style = \"text-align: left;\">Yes</td><td style = \"text-align: right;\">0</td><td style = \"text-align: left;\">String3</td></tr><tr><td class = \"rowNumber\" style = \"font-weight: bold; text-align: right;\">17</td><td style = \"text-align: left;\">Parental_Education_Level</td><td style = \"font-style: italic; text-align: left;\"></td><td style = \"text-align: left;\">College</td><td style = \"font-style: italic; text-align: left;\"></td><td style = \"text-align: left;\">Postgraduate</td><td style = \"text-align: right;\">90</td><td style = \"text-align: left;\">Union{Missing, String15}</td></tr><tr><td class = \"rowNumber\" style = \"font-weight: bold; text-align: right;\">18</td><td style = \"text-align: left;\">Distance_from_Home</td><td style = \"font-style: italic; text-align: left;\"></td><td style = \"text-align: left;\">Far</td><td style = \"font-style: italic; text-align: left;\"></td><td style = \"text-align: left;\">Near</td><td style = \"text-align: right;\">67</td><td style = \"text-align: left;\">Union{Missing, String15}</td></tr><tr><td class = \"rowNumber\" style = \"font-weight: bold; text-align: right;\">19</td><td style = \"text-align: left;\">Gender</td><td style = \"font-style: italic; text-align: left;\"></td><td style = \"text-align: left;\">Female</td><td style = \"font-style: italic; text-align: left;\"></td><td style = \"text-align: left;\">Male</td><td style = \"text-align: right;\">0</td><td style = \"text-align: left;\">String7</td></tr><tr><td class = \"rowNumber\" style = \"font-weight: bold; text-align: right;\">20</td><td style = \"text-align: left;\">Exam_Score</td><td style = \"text-align: left;\">67.2357</td><td style = \"text-align: left;\">55</td><td style = \"text-align: left;\">67.0</td><td style = \"text-align: left;\">101</td><td style = \"text-align: right;\">0</td><td style = \"text-align: left;\">Int64</td></tr></tbody></table></div>"
      ],
      "text/latex": [
       "\\begin{tabular}{r|ccccccc}\n",
       "\t& variable & mean & min & median & max & nmissing & eltype\\\\\n",
       "\t\\hline\n",
       "\t& Symbol & Union… & Any & Union… & Any & Int64 & Type\\\\\n",
       "\t\\hline\n",
       "\t1 & Hours\\_Studied & 19.9753 & 1 & 20.0 & 44 & 0 & Int64 \\\\\n",
       "\t2 & Attendance & 79.9774 & 60 & 80.0 & 100 & 0 & Int64 \\\\\n",
       "\t3 & Parental\\_Involvement &  & High &  & Medium & 0 & String7 \\\\\n",
       "\t4 & Access\\_to\\_Resources &  & High &  & Medium & 0 & String7 \\\\\n",
       "\t5 & Extracurricular\\_Activities &  & No &  & Yes & 0 & String3 \\\\\n",
       "\t6 & Sleep\\_Hours & 7.02906 & 4 & 7.0 & 10 & 0 & Int64 \\\\\n",
       "\t7 & Previous\\_Scores & 75.0705 & 50 & 75.0 & 100 & 0 & Int64 \\\\\n",
       "\t8 & Motivation\\_Level &  & High &  & Medium & 0 & String7 \\\\\n",
       "\t9 & Internet\\_Access &  & No &  & Yes & 0 & String3 \\\\\n",
       "\t10 & Tutoring\\_Sessions & 1.49372 & 0 & 1.0 & 8 & 0 & Int64 \\\\\n",
       "\t11 & Family\\_Income &  & High &  & Medium & 0 & String7 \\\\\n",
       "\t12 & Teacher\\_Quality &  & High &  & Medium & 78 & Union\\{Missing, String7\\} \\\\\n",
       "\t13 & School\\_Type &  & Private &  & Public & 0 & String7 \\\\\n",
       "\t14 & Peer\\_Influence &  & Negative &  & Positive & 0 & String15 \\\\\n",
       "\t15 & Physical\\_Activity & 2.96761 & 0 & 3.0 & 6 & 0 & Int64 \\\\\n",
       "\t16 & Learning\\_Disabilities &  & No &  & Yes & 0 & String3 \\\\\n",
       "\t17 & Parental\\_Education\\_Level &  & College &  & Postgraduate & 90 & Union\\{Missing, String15\\} \\\\\n",
       "\t18 & Distance\\_from\\_Home &  & Far &  & Near & 67 & Union\\{Missing, String15\\} \\\\\n",
       "\t19 & Gender &  & Female &  & Male & 0 & String7 \\\\\n",
       "\t20 & Exam\\_Score & 67.2357 & 55 & 67.0 & 101 & 0 & Int64 \\\\\n",
       "\\end{tabular}\n"
      ],
      "text/plain": [
       "\u001b[1m20×7 DataFrame\u001b[0m\n",
       "\u001b[1m Row \u001b[0m│\u001b[1m variable                   \u001b[0m\u001b[1m mean    \u001b[0m\u001b[1m min      \u001b[0m\u001b[1m median \u001b[0m\u001b[1m max          \u001b[0m\u001b[1m nm\u001b[0m ⋯\n",
       "     │\u001b[90m Symbol                     \u001b[0m\u001b[90m Union…  \u001b[0m\u001b[90m Any      \u001b[0m\u001b[90m Union… \u001b[0m\u001b[90m Any          \u001b[0m\u001b[90m In\u001b[0m ⋯\n",
       "─────┼──────────────────────────────────────────────────────────────────────────\n",
       "   1 │ Hours_Studied               19.9753  1         20.0    44               ⋯\n",
       "   2 │ Attendance                  79.9774  60        80.0    100\n",
       "   3 │ Parental_Involvement       \u001b[90m         \u001b[0m High     \u001b[90m        \u001b[0m Medium\n",
       "   4 │ Access_to_Resources        \u001b[90m         \u001b[0m High     \u001b[90m        \u001b[0m Medium\n",
       "   5 │ Extracurricular_Activities \u001b[90m         \u001b[0m No       \u001b[90m        \u001b[0m Yes              ⋯\n",
       "   6 │ Sleep_Hours                 7.02906  4         7.0     10\n",
       "   7 │ Previous_Scores             75.0705  50        75.0    100\n",
       "   8 │ Motivation_Level           \u001b[90m         \u001b[0m High     \u001b[90m        \u001b[0m Medium\n",
       "   9 │ Internet_Access            \u001b[90m         \u001b[0m No       \u001b[90m        \u001b[0m Yes              ⋯\n",
       "  10 │ Tutoring_Sessions           1.49372  0         1.0     8\n",
       "  11 │ Family_Income              \u001b[90m         \u001b[0m High     \u001b[90m        \u001b[0m Medium\n",
       "  12 │ Teacher_Quality            \u001b[90m         \u001b[0m High     \u001b[90m        \u001b[0m Medium\n",
       "  13 │ School_Type                \u001b[90m         \u001b[0m Private  \u001b[90m        \u001b[0m Public           ⋯\n",
       "  14 │ Peer_Influence             \u001b[90m         \u001b[0m Negative \u001b[90m        \u001b[0m Positive\n",
       "  15 │ Physical_Activity           2.96761  0         3.0     6\n",
       "  16 │ Learning_Disabilities      \u001b[90m         \u001b[0m No       \u001b[90m        \u001b[0m Yes\n",
       "  17 │ Parental_Education_Level   \u001b[90m         \u001b[0m College  \u001b[90m        \u001b[0m Postgraduate     ⋯\n",
       "  18 │ Distance_from_Home         \u001b[90m         \u001b[0m Far      \u001b[90m        \u001b[0m Near\n",
       "  19 │ Gender                     \u001b[90m         \u001b[0m Female   \u001b[90m        \u001b[0m Male\n",
       "  20 │ Exam_Score                  67.2357  55        67.0    101\n",
       "\u001b[36m                                                               2 columns omitted\u001b[0m"
      ]
     },
     "execution_count": 4,
     "metadata": {},
     "output_type": "execute_result"
    }
   ],
   "source": [
    "#Summary statistics for numerical columns\n",
    "describe(df)"
   ]
  },
  {
   "cell_type": "code",
   "execution_count": 9,
   "id": "e65a5011-922f-49f3-9e53-8fbcf0e151f5",
   "metadata": {},
   "outputs": [
    {
     "name": "stdout",
     "output_type": "stream",
     "text": [
      "Unique values for Access_to_Resources:,values\n",
      "Unique values for Physical_Activity:,values\n",
      "Unique values for Motivation_Level:,values\n",
      "Unique values for Peer_Influence:,values\n",
      "Unique values for Internet_Access:,values\n",
      "Unique values for Attendance:,values\n",
      "Unique values for Distance_from_Home:,values\n",
      "Unique values for Parental_Education_Level:,values\n",
      "Unique values for Sleep_Hours:,values\n",
      "Unique values for School_Type:,values\n",
      "Unique values for Teacher_Quality:,values\n",
      "Unique values for Learning_Disabilities:,values\n",
      "Unique values for Hours_Studied:,values\n",
      "Unique values for Gender:,values\n",
      "Unique values for Extracurricular_Activities:,values\n",
      "Unique values for Tutoring_Sessions:,values\n",
      "Unique values for Family_Income:,values\n",
      "Unique values for Previous_Scores:,values\n",
      "Unique values for Parental_Involvement:,values\n",
      "Unique values for Exam_Score:,values\n"
     ]
    }
   ],
   "source": [
    "#Finding the unique values in some columns\n",
    "unique_values = unique(df[!,:Parental_Education_Level])\n",
    "\n",
    "#Finding unique values over all the columns\n",
    "unique_values_dict = Dict()\n",
    "\n",
    "for col in names(df)\n",
    "    unique_values = unique(df[!, col])\n",
    "    unique_values_dict[col] = unique_values\n",
    "end\n",
    "\n",
    "for (col,values) in unique_values_dict\n",
    "    println(\"Unique values for $col:,values\")\n",
    "end"
   ]
  },
  {
   "cell_type": "code",
   "execution_count": null,
   "id": "7a0c092d-d711-4fb1-a40d-5732c8ae52c3",
   "metadata": {},
   "outputs": [],
   "source": []
  }
 ],
 "metadata": {
  "kernelspec": {
   "display_name": "Julia 1.10.4",
   "language": "julia",
   "name": "julia-1.10"
  },
  "language_info": {
   "file_extension": ".jl",
   "mimetype": "application/julia",
   "name": "julia",
   "version": "1.10.4"
  }
 },
 "nbformat": 4,
 "nbformat_minor": 5
}
